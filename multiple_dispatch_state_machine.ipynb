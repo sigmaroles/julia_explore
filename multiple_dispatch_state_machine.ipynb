{
 "cells": [
  {
   "cell_type": "markdown",
   "id": "5704bd38-6c8b-4406-9358-cfffaae1663b",
   "metadata": {},
   "source": [
    "## the cake baking code example from \n",
    "https://www.youtube.com/watch?v=WGT9_cEImAk\n",
    "<br>\n",
    "JuliaCon 2019"
   ]
  },
  {
   "cell_type": "code",
   "execution_count": 1,
   "id": "287d49c0-a28f-4f2c-b323-a4abae54f294",
   "metadata": {},
   "outputs": [],
   "source": [
    "abstract type State end\n",
    "abstract type Transition end\n",
    "\n",
    "InvalidState = ArgumentError\n",
    "\n",
    "@enum Ingredients eggs flour sugar water butter baking_soda"
   ]
  },
  {
   "cell_type": "code",
   "execution_count": 2,
   "id": "4aa5714e-1f78-4f60-9253-6fb22a93a9f2",
   "metadata": {},
   "outputs": [],
   "source": [
    "struct NeedIngredients <: State\n",
    "    gathered::Set{Ingredients}\n",
    "    NeedIngredients() = new(Set())\n",
    "end\n",
    "\n",
    "struct Gather <: Transition\n",
    "    ingredient::Ingredients\n",
    "end"
   ]
  },
  {
   "cell_type": "code",
   "execution_count": 3,
   "id": "5f4f039f-42ca-4f8f-930a-5c6ace08529b",
   "metadata": {},
   "outputs": [],
   "source": [
    "struct MixBatter <: State\n",
    "    remaining::Array{Ingredients}\n",
    "    MixBatter() = new([flour, sugar, baking_soda, water, eggs, butter])\n",
    "end\n",
    "\n",
    "struct Add <: Transition\n",
    "    ingredient::Ingredients\n",
    "end"
   ]
  },
  {
   "cell_type": "code",
   "execution_count": 4,
   "id": "14482a2c-0cce-45b9-b72a-26cb188a8eae",
   "metadata": {},
   "outputs": [],
   "source": [
    "struct RuinedBatter <: State end\n",
    "struct RawBatter <: State end\n",
    "\n",
    "struct Bake <: Transition\n",
    "    temp::UInt64\n",
    "end\n",
    "\n",
    "struct TastyCake <: State end\n",
    "struct BurntCake <: State end"
   ]
  },
  {
   "cell_type": "markdown",
   "id": "e19b94aa-b6a5-43a8-9cff-2522e653f8f7",
   "metadata": {},
   "source": [
    "## stop and think here\n",
    "\"these are states and transitions described as types. how do we implemen a state machine?\""
   ]
  },
  {
   "cell_type": "code",
   "execution_count": 5,
   "id": "5ee388bc-7750-437b-88c2-a714e13ba890",
   "metadata": {},
   "outputs": [
    {
     "data": {
      "text/plain": [
       "step (generic function with 1 method)"
      ]
     },
     "execution_count": 5,
     "metadata": {},
     "output_type": "execute_result"
    }
   ],
   "source": [
    "step(::State, ::Transition) = throw(InvalidState)\n",
    "# by default, any transition from any state is invalid. \n",
    "# next we are going to define what are the valid transitions"
   ]
  },
  {
   "cell_type": "code",
   "execution_count": 6,
   "id": "eb61fe77-12ba-4772-879c-4bc56014ba47",
   "metadata": {},
   "outputs": [
    {
     "data": {
      "text/plain": [
       "step (generic function with 2 methods)"
      ]
     },
     "execution_count": 6,
     "metadata": {},
     "output_type": "execute_result"
    }
   ],
   "source": [
    "function step(state::NeedIngredients, transition::Gather)\n",
    "    push!(state.gathered, transition.ingredient)\n",
    "    state.gathered != Set(instances(Ingredients)) ? state : MixBatter()\n",
    "end"
   ]
  },
  {
   "cell_type": "code",
   "execution_count": 7,
   "id": "1a27e836-fed4-4f83-87e4-9cd98a87440a",
   "metadata": {},
   "outputs": [
    {
     "data": {
      "text/plain": [
       "step (generic function with 3 methods)"
      ]
     },
     "execution_count": 7,
     "metadata": {},
     "output_type": "execute_result"
    }
   ],
   "source": [
    "function step(state::MixBatter, transition::Add)\n",
    "    if state.remaining[1] == transition.ingredient\n",
    "        popfirst!(state.remaining)\n",
    "        isempty(state.remaining) ? RawBatter() : state\n",
    "    else\n",
    "        RuinedBatter()\n",
    "    end\n",
    "end"
   ]
  },
  {
   "cell_type": "code",
   "execution_count": 8,
   "id": "d5e50a5d-392c-4d28-823a-b85bfa458652",
   "metadata": {},
   "outputs": [
    {
     "data": {
      "text/plain": [
       "step (generic function with 4 methods)"
      ]
     },
     "execution_count": 8,
     "metadata": {},
     "output_type": "execute_result"
    }
   ],
   "source": [
    "function step(::RawBatter, transition::Bake) \n",
    "    transition.temp > 350 ? BurntCake() : TastyCake()\n",
    "end"
   ]
  },
  {
   "cell_type": "code",
   "execution_count": 9,
   "id": "22f1a476-4628-4ff2-9ef7-7286a920e970",
   "metadata": {},
   "outputs": [
    {
     "data": {
      "text/plain": [
       "NeedIngredients(Set(Ingredients[eggs]))"
      ]
     },
     "execution_count": 9,
     "metadata": {},
     "output_type": "execute_result"
    }
   ],
   "source": [
    "step(NeedIngredients(), Gather(eggs))"
   ]
  },
  {
   "cell_type": "code",
   "execution_count": 12,
   "id": "9d1a50c3-70fa-44ac-8212-db25246d3e4a",
   "metadata": {},
   "outputs": [
    {
     "data": {
      "text/plain": [
       "13-element Vector{Transition}:\n",
       " Gather(flour)\n",
       " Gather(eggs)\n",
       " Gather(water)\n",
       " Gather(baking_soda)\n",
       " Gather(butter)\n",
       " Gather(sugar)\n",
       " Add(flour)\n",
       " Add(sugar)\n",
       " Add(baking_soda)\n",
       " Add(water)\n",
       " Add(eggs)\n",
       " Add(butter)\n",
       " Bake(0x000000000000026e)"
      ]
     },
     "execution_count": 12,
     "metadata": {},
     "output_type": "execute_result"
    }
   ],
   "source": [
    "recipe = [\n",
    "    Gather(flour)\n",
    "    Gather(eggs)\n",
    "    Gather(water)\n",
    "    Gather(baking_soda)\n",
    "    Gather(butter)\n",
    "    Gather(sugar)\n",
    "    Add(flour)\n",
    "    Add(sugar)\n",
    "    Add(baking_soda)\n",
    "    Add(water)\n",
    "    Add(eggs)\n",
    "    Add(butter)\n",
    "    Bake(622)\n",
    "]"
   ]
  },
  {
   "cell_type": "code",
   "execution_count": 13,
   "id": "c3050af6-d34d-4c48-a4a9-66dcbdfd5e1d",
   "metadata": {},
   "outputs": [
    {
     "data": {
      "text/plain": [
       "BurntCake()"
      ]
     },
     "execution_count": 13,
     "metadata": {},
     "output_type": "execute_result"
    }
   ],
   "source": [
    " reduce(step, recipe, init=NeedIngredients())"
   ]
  },
  {
   "cell_type": "code",
   "execution_count": null,
   "id": "328744ec-e909-42e9-a4f7-ef71e0b11b92",
   "metadata": {},
   "outputs": [],
   "source": []
  }
 ],
 "metadata": {
  "kernelspec": {
   "display_name": "Julia 1.6.1",
   "language": "julia",
   "name": "julia-1.6"
  },
  "language_info": {
   "file_extension": ".jl",
   "mimetype": "application/julia",
   "name": "julia",
   "version": "1.6.1"
  }
 },
 "nbformat": 4,
 "nbformat_minor": 5
}
