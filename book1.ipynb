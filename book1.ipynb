{
 "cells": [
  {
   "cell_type": "markdown",
   "id": "b137dc17-8e4f-48a6-aee9-cff15ff9f15f",
   "metadata": {},
   "source": [
    "### some basics from\n",
    "\"Beginning Julia Programming for Engineers and Scientists\"\n",
    "and\n",
    "\"Think Julia: How to Think Like a Computer Scientist\" (online: https://benlauwens.github.io/ThinkJulia.jl/latest/book.html)"
   ]
  },
  {
   "cell_type": "code",
   "execution_count": 1,
   "id": "2a69edb7-5c9d-4d10-81d4-1bd65590a2d6",
   "metadata": {},
   "outputs": [
    {
     "data": {
      "text/plain": [
       "21617278211378381//9007199254740992 + 3//1*im"
      ]
     },
     "execution_count": 1,
     "metadata": {},
     "output_type": "execute_result"
    }
   ],
   "source": [
    "Rational(2/5) + (2+3im)"
   ]
  },
  {
   "cell_type": "code",
   "execution_count": 2,
   "id": "a8cdc297-30f9-4e6c-b38c-88d2dbdaaa59",
   "metadata": {},
   "outputs": [
    {
     "data": {
      "text/plain": [
       "5 + 13im"
      ]
     },
     "execution_count": 2,
     "metadata": {},
     "output_type": "execute_result"
    }
   ],
   "source": [
    "3+4im+2+9im"
   ]
  },
  {
   "cell_type": "code",
   "execution_count": 3,
   "id": "bca86de2-b361-495c-affd-2a55441439bb",
   "metadata": {},
   "outputs": [
    {
     "data": {
      "text/plain": [
       "π = 3.1415926535897..."
      ]
     },
     "execution_count": 3,
     "metadata": {},
     "output_type": "execute_result"
    }
   ],
   "source": [
    "pi"
   ]
  },
  {
   "cell_type": "code",
   "execution_count": 4,
   "id": "6715a28d-e78c-4a64-88ae-0ae002be1ba8",
   "metadata": {},
   "outputs": [
    {
     "data": {
      "text/plain": [
       "4.718281828459045 + 3.0im"
      ]
     },
     "execution_count": 4,
     "metadata": {},
     "output_type": "execute_result"
    }
   ],
   "source": [
    "e=MathConstants.e\n",
    "# https://discourse.julialang.org/t/value-of-e/15958\n",
    "e+(2+3im)"
   ]
  },
  {
   "cell_type": "code",
   "execution_count": 5,
   "id": "7a051e70-22e2-49c6-b144-e9910e607e75",
   "metadata": {},
   "outputs": [
    {
     "data": {
      "text/plain": [
       "0.0 + 1.2246467991473532e-16im"
      ]
     },
     "execution_count": 5,
     "metadata": {},
     "output_type": "execute_result"
    }
   ],
   "source": [
    "e^(pi*1im)+1 #Euler's formula .. close enough to zero?"
   ]
  },
  {
   "cell_type": "code",
   "execution_count": 6,
   "id": "0a0218a6-b399-47e5-bfdb-0308e48a31d9",
   "metadata": {},
   "outputs": [
    {
     "data": {
      "text/plain": [
       "\"juliabookbookbookjulia\""
      ]
     },
     "execution_count": 6,
     "metadata": {},
     "output_type": "execute_result"
    }
   ],
   "source": [
    "str1 = \"julia\"\n",
    "str2 = \"book\"\n",
    "str1*str2^3*str1\n",
    "# very handy!"
   ]
  },
  {
   "cell_type": "code",
   "execution_count": 7,
   "id": "aa42fe98-ecc9-45d4-a1d9-38d6bd989957",
   "metadata": {},
   "outputs": [
    {
     "data": {
      "text/plain": [
       "125287.0"
      ]
     },
     "execution_count": 7,
     "metadata": {},
     "output_type": "execute_result"
    }
   ],
   "source": [
    "parse(Float64,string(\"125\")*\"287\")\n",
    "# see also trunc"
   ]
  },
  {
   "cell_type": "code",
   "execution_count": 8,
   "id": "fc967a20-c6ed-4dd0-bc0e-54baa7d622be",
   "metadata": {},
   "outputs": [
    {
     "data": {
      "text/plain": [
       "1.0"
      ]
     },
     "execution_count": 8,
     "metadata": {},
     "output_type": "execute_result"
    }
   ],
   "source": [
    "deg=90\n",
    "rad=deg/180*pi\n",
    "sin(rad)"
   ]
  },
  {
   "cell_type": "code",
   "execution_count": 9,
   "id": "cbf801b2-d90b-40ed-b827-68049682d7bd",
   "metadata": {},
   "outputs": [
    {
     "name": "stdout",
     "output_type": "stream",
     "text": [
      "Worldometer Worldometer 3.141592653589793\n",
      "Worldometer Worldometer 3.141592653589793\n",
      "Worldometer Worldometer 3.141592653589793\n",
      "Worldometer Worldometer 3.141592653589793\n",
      "Worldometer Worldometer 3.141592653589793\n",
      "\n"
     ]
    }
   ],
   "source": [
    "function print5times(x)\n",
    "    println((x*\"\\n\") ^ 5)\n",
    "end\n",
    "\n",
    "# print a word twice followed by pi .. repeat for 5 times\n",
    "print5times(\"Worldometer \"^2 * string(Float64(pi)))"
   ]
  },
  {
   "cell_type": "code",
   "execution_count": 10,
   "id": "0e2bf8e0-16bf-44db-96e2-bdb413810827",
   "metadata": {},
   "outputs": [
    {
     "name": "stdout",
     "output_type": "stream",
     "text": [
      "hello! \n",
      "hello! \n"
     ]
    }
   ],
   "source": [
    "# now let's get functional...\n",
    "function repeattwice(f, arg)\n",
    "    f(arg)\n",
    "    f(arg)\n",
    "end\n",
    "repeattwice(println,\"hello! \")"
   ]
  },
  {
   "cell_type": "code",
   "execution_count": 11,
   "id": "d2d3bc8d-2eae-4817-ba3f-a13177f1b41d",
   "metadata": {},
   "outputs": [
    {
     "data": {
      "text/plain": [
       "2"
      ]
     },
     "execution_count": 11,
     "metadata": {},
     "output_type": "execute_result"
    }
   ],
   "source": [
    "17 ÷ 8\n",
    "# WTF... https://docs.julialang.org/en/v1/manual/mathematical-operations/"
   ]
  },
  {
   "cell_type": "code",
   "execution_count": 12,
   "id": "d2d44972-0e3c-4e8b-b1a3-0647e8dae3c6",
   "metadata": {},
   "outputs": [
    {
     "data": {
      "text/plain": [
       "false"
      ]
     },
     "execution_count": 12,
     "metadata": {},
     "output_type": "execute_result"
    }
   ],
   "source": [
    "13/2 > 19 || 12/2 < 8 && false\n",
    "# note the operator associativity "
   ]
  },
  {
   "cell_type": "code",
   "execution_count": 13,
   "id": "c906cf5a-9def-4b2e-880f-d1a5fdfb8d90",
   "metadata": {},
   "outputs": [
    {
     "name": "stdout",
     "output_type": "stream",
     "text": [
      "This will execute\n",
      "This will also execute\n"
     ]
    }
   ],
   "source": [
    "if true\n",
    "    println(\"This will execute\")\n",
    "    if true\n",
    "        println(\"This will also execute\")\n",
    "    elseif true\n",
    "        println(\"However, this will not\")\n",
    "    elseif true\n",
    "        println(\"... you get the point\")\n",
    "    end\n",
    "else\n",
    "    println(\"This will not\")\n",
    "end"
   ]
  },
  {
   "cell_type": "code",
   "execution_count": 14,
   "id": "11b5b3ed-ab47-4a6b-adfe-3b9676d85323",
   "metadata": {},
   "outputs": [
    {
     "data": {
      "text/plain": [
       "fibonacci (generic function with 1 method)"
      ]
     },
     "execution_count": 14,
     "metadata": {},
     "output_type": "execute_result"
    }
   ],
   "source": [
    "function sumof1ton(n)\n",
    "    if n==1\n",
    "        return 1\n",
    "    else\n",
    "        return n+sumof1ton(n-1)\n",
    "    end\n",
    "end\n",
    "\n",
    "function fibonacci(n)\n",
    "    if n==1\n",
    "        return 0\n",
    "    elseif n==2\n",
    "        return 1\n",
    "    else\n",
    "        return fibonacci(n-1) + fibonacci(n-2)\n",
    "    end\n",
    "end\n",
    "\n"
   ]
  },
  {
   "cell_type": "code",
   "execution_count": 15,
   "id": "0ce9fdbe-9928-4297-9986-1701ad37b0bf",
   "metadata": {},
   "outputs": [
    {
     "name": "stdout",
     "output_type": "stream",
     "text": [
      "Sum of 1 to 1 = 1\n",
      "Sum of 1 to 2 = 3\n",
      "Sum of 1 to 3 = 6\n",
      "Sum of 1 to 4 = 10\n",
      "Sum of 1 to 5 = 15\n",
      "Sum of 1 to 6 = 21\n",
      "1-th Fibonacci number is 0\n",
      "2-th Fibonacci number is 1\n",
      "3-th Fibonacci number is 1\n",
      "4-th Fibonacci number is 2\n",
      "5-th Fibonacci number is 3\n",
      "6-th Fibonacci number is 5\n",
      "7-th Fibonacci number is 8\n",
      "8-th Fibonacci number is 13\n",
      "9-th Fibonacci number is 21\n",
      "10-th Fibonacci number is 34\n"
     ]
    }
   ],
   "source": [
    "for i = 1 : 6\n",
    "    println(\"Sum of 1 to \"*string(i)*\" = \"*string(sumof1ton(i)))\n",
    "end\n",
    "\n",
    "\n",
    "for i = 1:10\n",
    "    println(string(i) * \"-th Fibonacci number is \" * string(fibonacci(i)))\n",
    "end"
   ]
  },
  {
   "cell_type": "code",
   "execution_count": 16,
   "id": "5fd33eee-78cd-4bfe-b711-a750c2f777c2",
   "metadata": {},
   "outputs": [
    {
     "name": "stdout",
     "output_type": "stream",
     "text": [
      "65533\n"
     ]
    }
   ],
   "source": [
    "# https://en.wikipedia.org/wiki/Ackermann_function\n",
    "# Its value grows rapidly, even for small inputs. \n",
    "# For example, A(4, 2) is an integer of 19,729 decimal digits (equivalent to 2^65536 - 3)\n",
    "\n",
    "function Ackermann(m,n)\n",
    "    #println(\"Called Ackermann with m=\"*string(m)*\",n=\"*string(n))\n",
    "   if m==0\n",
    "        return n+1\n",
    "    elseif m>0 && n==0\n",
    "        return Ackermann(m-1,1)\n",
    "    else\n",
    "        return Ackermann(m-1,Ackermann(m,n-1))\n",
    "    end\n",
    "end\n",
    "\n",
    "println(Ackermann(4,1))"
   ]
  },
  {
   "cell_type": "code",
   "execution_count": 17,
   "id": "2af07eee-00f4-4986-9c4b-34ac65fff498",
   "metadata": {},
   "outputs": [
    {
     "name": "stdout",
     "output_type": "stream",
     "text": [
      "r\n",
      "e\n",
      "t\n",
      "y\n",
      "p\n",
      "u\n",
      "j\n"
     ]
    }
   ],
   "source": [
    "s1 = \"jupyter\"\n",
    "# decrementing for loop: https://stackoverflow.com/a/62444832\n",
    "for i = length(s1):-1:1\n",
    "    println(s1[i])\n",
    "end"
   ]
  },
  {
   "cell_type": "code",
   "execution_count": 18,
   "id": "df734a7a-230d-494d-bf8e-037fc289d62c",
   "metadata": {},
   "outputs": [
    {
     "name": "stdout",
     "output_type": "stream",
     "text": [
      "\"sees\" is a palindrome : true\n",
      "\"seek\" is a palindrome : false\n",
      "\"never\" is a palindrome : false\n",
      "\"neven\" is a palindrome : true\n",
      "\"able was i ere i saw elba\" is a palindrome : true\n"
     ]
    }
   ],
   "source": [
    "function ispalindrome(s)\n",
    "    s_len = length(s)\n",
    "    \n",
    "    # a string of size zero or one is by definition always palindrome\n",
    "    # base case\n",
    "    if s_len<=1\n",
    "        return true\n",
    "    else\n",
    "        # middle will become empty for inputs with even length, and a single character for odd length\n",
    "        middle = s[2:s_len-1] \n",
    "        first = s[1]\n",
    "        last = s[s_len]\n",
    "        return (first==last) && ispalindrome(middle)\n",
    "    end\n",
    "end\n",
    "\n",
    "\n",
    "# test cases should cover: 1. odd and even lengths 2. palindromes and non-palindromes\n",
    "ss = [\"sees\", \"seek\", \"never\", \"neven\", \"able was i ere i saw elba\"]\n",
    "for i = 1:length(ss)\n",
    "    println(\"\\\"\" * ss[i] * \"\\\" is a palindrome : \" * string(ispalindrome(ss[i])))\n",
    "end"
   ]
  },
  {
   "cell_type": "code",
   "execution_count": 41,
   "id": "49f826bd-6536-437d-855c-660e9262f135",
   "metadata": {},
   "outputs": [
    {
     "name": "stdout",
     "output_type": "stream",
     "text": [
      "Sqrt(20000,20000) : converged to 141.4213562373095 after 13 iterations\n",
      "Sqrt(20001,20001) : converged to 141.42489172702238 after 13 iterations\n",
      "Sqrt(20002,20002) : converged to 141.42842712835352 after 13 iterations\n",
      "Sqrt(20003,20003) : converged to 141.43196244130957 after 13 iterations\n",
      "Sqrt(20004,20004) : converged to 141.43549766589717 after 13 iterations\n",
      "Sqrt(20005,20005) : converged to 141.4390328021229 after 13 iterations\n",
      "Sqrt(20006,20006) : converged to 141.44256784999345 after 13 iterations\n",
      "Sqrt(20007,20007) : converged to 141.4461028095154 after 13 iterations\n",
      "Sqrt(20008,20008) : converged to 141.4496376806954 after 13 iterations\n",
      "Sqrt(20009,20009) : converged to 141.45317246354003 after 13 iterations\n",
      "Sqrt(20010,20010) : converged to 141.45670715805596 after 13 iterations\n",
      "Sqrt(20011,20011) : converged to 141.4602417642498 after 13 iterations\n",
      "Sqrt(20012,20012) : converged to 141.46377628212815 after 13 iterations\n",
      "Sqrt(20013,20013) : converged to 141.46731071169762 after 13 iterations\n",
      "Sqrt(20014,20014) : converged to 141.47084505296488 after 13 iterations\n",
      "Sqrt(20015,20015) : converged to 141.4743793059365 after 13 iterations\n",
      "Sqrt(20016,20016) : converged to 141.47791347061917 after 13 iterations\n",
      "Sqrt(20017,20017) : converged to 141.4814475470194 after 13 iterations\n",
      "Sqrt(20018,20018) : converged to 141.48498153514385 after 13 iterations\n",
      "Sqrt(20019,20019) : converged to 141.48851543499916 after 13 iterations\n",
      "Sqrt(20020,20020) : converged to 141.49204924659193 after 13 iterations\n",
      "Sqrt(20021,20021) : converged to 141.49558296992876 after 13 iterations\n",
      "Sqrt(20022,20022) : converged to 141.4991166050163 after 13 iterations\n",
      "Sqrt(20023,20023) : converged to 141.50265015186113 after 13 iterations\n",
      "Sqrt(20024,20024) : converged to 141.50618361046983 after 13 iterations\n",
      "Sqrt(20025,20025) : converged to 141.50971698084908 after 13 iterations\n",
      "Sqrt(20026,20026) : converged to 141.5132502630054 after 13 iterations\n",
      "Sqrt(20027,20027) : converged to 141.5167834569455 after 13 iterations\n",
      "Sqrt(20028,20028) : converged to 141.5203165626759 after 13 iterations\n",
      "Sqrt(20029,20029) : converged to 141.52384958020326 after 13 iterations\n",
      "Sqrt(20030,20030) : converged to 141.52738250953416 after 13 iterations\n"
     ]
    }
   ],
   "source": [
    "# Newton method for finding square root\n",
    "function newton_sqrt(n, est, epsilon=1e-10)\n",
    "    roots = Vector{Float64}()\n",
    "    est1 = est\n",
    "    i = 1\n",
    "    while true\n",
    "        #println(\"Iteration $i, estimate of sqrt($n) = $est1\")\n",
    "        est1 = (1/2) * (est1 + n/est1)\n",
    "        append!(roots, est1)\n",
    "        if i>3\n",
    "            delta = abs(roots[length(roots)] - roots[length(roots)-1])\n",
    "            if delta<epsilon\n",
    "                break\n",
    "            end\n",
    "        end\n",
    "        i = i+1\n",
    "    end\n",
    "    #truesqrt = sqrt(n)\n",
    "    println(\"Sqrt($n,$est) : converged to $est1 after $i iterations\")#, true value is $truesqrt\")\n",
    "    return est1\n",
    "end\n",
    "\n",
    "for i = 20000:20030\n",
    "    newton_sqrt(i,i,1e-14)\n",
    "end"
   ]
  },
  {
   "cell_type": "markdown",
   "id": "f71ea67c-f0c5-4f57-9c4c-6eb3001c26ec",
   "metadata": {},
   "source": [
    "### Random wisdom:\n",
    "> Executing algorithms is boring, but designing them is interesting, intellectually challenging, and a central part of computer science.\n",
    "\n",
    "> Some of the things that people do naturally, without difficulty or conscious thought, are the hardest to express algorithmically. Understanding natural language is a good example. We all do it, but so far no one has been able to explain how we do it, at least not in the form of an algorithm."
   ]
  },
  {
   "cell_type": "code",
   "execution_count": 48,
   "id": "dac2add3-47ac-4c50-a3d3-f2b00f943431",
   "metadata": {},
   "outputs": [
    {
     "data": {
      "text/plain": [
       "Expr"
      ]
     },
     "execution_count": 48,
     "metadata": {},
     "output_type": "execute_result"
    }
   ],
   "source": [
    "p1 = Meta.parse(\"1+2\")\n",
    "typeof(p1)"
   ]
  },
  {
   "cell_type": "code",
   "execution_count": 46,
   "id": "dffde7cc-ded9-4565-b88c-2003b0a688f8",
   "metadata": {},
   "outputs": [
    {
     "data": {
      "text/plain": [
       "\":(1 + 2)\""
      ]
     },
     "execution_count": 46,
     "metadata": {},
     "output_type": "execute_result"
    }
   ],
   "source": [
    "eval(\":(1 + 2)\")"
   ]
  },
  {
   "cell_type": "code",
   "execution_count": null,
   "id": "b0560b37-f8a9-4bf6-9aa0-e2fdaa6ef93a",
   "metadata": {},
   "outputs": [],
   "source": []
  }
 ],
 "metadata": {
  "kernelspec": {
   "display_name": "Julia 1.6.1",
   "language": "julia",
   "name": "julia-1.6"
  },
  "language_info": {
   "file_extension": ".jl",
   "mimetype": "application/julia",
   "name": "julia",
   "version": "1.6.1"
  }
 },
 "nbformat": 4,
 "nbformat_minor": 5
}
