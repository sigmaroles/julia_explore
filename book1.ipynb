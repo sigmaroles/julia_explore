{
 "cells": [
  {
   "cell_type": "markdown",
   "id": "b137dc17-8e4f-48a6-aee9-cff15ff9f15f",
   "metadata": {},
   "source": [
    "### some basics from\n",
    "\"Beginning Julia Programming for Engineers and Scientists\"\n",
    "and\n",
    "\"Think Julia: How to Think Like a Computer Scientist\" (online: https://benlauwens.github.io/ThinkJulia.jl/latest/book.html)"
   ]
  },
  {
   "cell_type": "code",
   "execution_count": 2,
   "id": "2a69edb7-5c9d-4d10-81d4-1bd65590a2d6",
   "metadata": {},
   "outputs": [
    {
     "data": {
      "text/plain": [
       "21617278211378381//9007199254740992 + 3//1*im"
      ]
     },
     "execution_count": 2,
     "metadata": {},
     "output_type": "execute_result"
    }
   ],
   "source": [
    "Rational(2/5) + (2+3im)"
   ]
  },
  {
   "cell_type": "code",
   "execution_count": 4,
   "id": "a8cdc297-30f9-4e6c-b38c-88d2dbdaaa59",
   "metadata": {},
   "outputs": [
    {
     "data": {
      "text/plain": [
       "5 + 13im"
      ]
     },
     "execution_count": 4,
     "metadata": {},
     "output_type": "execute_result"
    }
   ],
   "source": [
    "3+4im+2+9im"
   ]
  },
  {
   "cell_type": "code",
   "execution_count": 6,
   "id": "bca86de2-b361-495c-affd-2a55441439bb",
   "metadata": {},
   "outputs": [
    {
     "data": {
      "text/plain": [
       "π = 3.1415926535897..."
      ]
     },
     "execution_count": 6,
     "metadata": {},
     "output_type": "execute_result"
    }
   ],
   "source": [
    "pi"
   ]
  },
  {
   "cell_type": "code",
   "execution_count": 12,
   "id": "6715a28d-e78c-4a64-88ae-0ae002be1ba8",
   "metadata": {},
   "outputs": [
    {
     "data": {
      "text/plain": [
       "4.718281828459045 + 3.0im"
      ]
     },
     "execution_count": 12,
     "metadata": {},
     "output_type": "execute_result"
    }
   ],
   "source": [
    "e=MathConstants.e\n",
    "# https://discourse.julialang.org/t/value-of-e/15958\n",
    "e+(2+3im)"
   ]
  },
  {
   "cell_type": "code",
   "execution_count": 18,
   "id": "7a051e70-22e2-49c6-b144-e9910e607e75",
   "metadata": {},
   "outputs": [
    {
     "data": {
      "text/plain": [
       "0.0 + 1.2246467991473532e-16im"
      ]
     },
     "execution_count": 18,
     "metadata": {},
     "output_type": "execute_result"
    }
   ],
   "source": [
    "e^(pi*1im)+1 #Euler's formula .. close enough to zero?"
   ]
  },
  {
   "cell_type": "code",
   "execution_count": 23,
   "id": "0a0218a6-b399-47e5-bfdb-0308e48a31d9",
   "metadata": {},
   "outputs": [
    {
     "data": {
      "text/plain": [
       "\"juliabookbookbookjulia\""
      ]
     },
     "execution_count": 23,
     "metadata": {},
     "output_type": "execute_result"
    }
   ],
   "source": [
    "str1 = \"julia\"\n",
    "str2 = \"book\"\n",
    "str1*str2^3*str1\n",
    "# very handy!"
   ]
  },
  {
   "cell_type": "code",
   "execution_count": 32,
   "id": "aa42fe98-ecc9-45d4-a1d9-38d6bd989957",
   "metadata": {},
   "outputs": [
    {
     "data": {
      "text/plain": [
       "125287.0"
      ]
     },
     "execution_count": 32,
     "metadata": {},
     "output_type": "execute_result"
    }
   ],
   "source": [
    "parse(Float64,string(\"125\")*\"287\")\n",
    "# see also trunc"
   ]
  },
  {
   "cell_type": "code",
   "execution_count": 37,
   "id": "fc967a20-c6ed-4dd0-bc0e-54baa7d622be",
   "metadata": {},
   "outputs": [
    {
     "data": {
      "text/plain": [
       "1.0"
      ]
     },
     "execution_count": 37,
     "metadata": {},
     "output_type": "execute_result"
    }
   ],
   "source": [
    "deg=90\n",
    "rad=deg/180*pi\n",
    "sin(rad)"
   ]
  },
  {
   "cell_type": "code",
   "execution_count": 61,
   "id": "cbf801b2-d90b-40ed-b827-68049682d7bd",
   "metadata": {},
   "outputs": [
    {
     "name": "stdout",
     "output_type": "stream",
     "text": [
      "Worldometer Worldometer 3.141592653589793\n",
      "Worldometer Worldometer 3.141592653589793\n",
      "Worldometer Worldometer 3.141592653589793\n",
      "Worldometer Worldometer 3.141592653589793\n",
      "Worldometer Worldometer 3.141592653589793\n",
      "\n"
     ]
    }
   ],
   "source": [
    "function print5times(x)\n",
    "    println((x*\"\\n\") ^ 5)\n",
    "end\n",
    "\n",
    "# print a word twice followed by pi .. repeat for 5 times\n",
    "print5times(\"Worldometer \"^2 * string(Float64(pi)))"
   ]
  },
  {
   "cell_type": "code",
   "execution_count": 58,
   "id": "0e2bf8e0-16bf-44db-96e2-bdb413810827",
   "metadata": {},
   "outputs": [
    {
     "data": {
      "text/plain": [
       "\"3.141592653589793\""
      ]
     },
     "execution_count": 58,
     "metadata": {},
     "output_type": "execute_result"
    }
   ],
   "source": []
  },
  {
   "cell_type": "code",
   "execution_count": null,
   "id": "d2d3bc8d-2eae-4817-ba3f-a13177f1b41d",
   "metadata": {},
   "outputs": [],
   "source": []
  }
 ],
 "metadata": {
  "kernelspec": {
   "display_name": "Julia 1.6.1",
   "language": "julia",
   "name": "julia-1.6"
  },
  "language_info": {
   "file_extension": ".jl",
   "mimetype": "application/julia",
   "name": "julia",
   "version": "1.6.1"
  }
 },
 "nbformat": 4,
 "nbformat_minor": 5
}
