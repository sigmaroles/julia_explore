{
 "cells": [
  {
   "cell_type": "markdown",
   "id": "b137dc17-8e4f-48a6-aee9-cff15ff9f15f",
   "metadata": {},
   "source": [
    "### some basics from\n",
    "\"Beginning Julia Programming for Engineers and Scientists\"\n",
    "and\n",
    "\"Think Julia: How to Think Like a Computer Scientist\" (online: https://benlauwens.github.io/ThinkJulia.jl/latest/book.html)"
   ]
  },
  {
   "cell_type": "code",
   "execution_count": 1,
   "id": "2a69edb7-5c9d-4d10-81d4-1bd65590a2d6",
   "metadata": {},
   "outputs": [
    {
     "data": {
      "text/plain": [
       "21617278211378381//9007199254740992 + 3//1*im"
      ]
     },
     "execution_count": 1,
     "metadata": {},
     "output_type": "execute_result"
    }
   ],
   "source": [
    "Rational(2/5) + (2+3im)"
   ]
  },
  {
   "cell_type": "code",
   "execution_count": 2,
   "id": "a8cdc297-30f9-4e6c-b38c-88d2dbdaaa59",
   "metadata": {},
   "outputs": [
    {
     "data": {
      "text/plain": [
       "5 + 13im"
      ]
     },
     "execution_count": 2,
     "metadata": {},
     "output_type": "execute_result"
    }
   ],
   "source": [
    "3+4im+2+9im"
   ]
  },
  {
   "cell_type": "code",
   "execution_count": 3,
   "id": "bca86de2-b361-495c-affd-2a55441439bb",
   "metadata": {},
   "outputs": [
    {
     "data": {
      "text/plain": [
       "π = 3.1415926535897..."
      ]
     },
     "execution_count": 3,
     "metadata": {},
     "output_type": "execute_result"
    }
   ],
   "source": [
    "pi"
   ]
  },
  {
   "cell_type": "code",
   "execution_count": 4,
   "id": "6715a28d-e78c-4a64-88ae-0ae002be1ba8",
   "metadata": {},
   "outputs": [
    {
     "data": {
      "text/plain": [
       "4.718281828459045 + 3.0im"
      ]
     },
     "execution_count": 4,
     "metadata": {},
     "output_type": "execute_result"
    }
   ],
   "source": [
    "e=MathConstants.e\n",
    "# https://discourse.julialang.org/t/value-of-e/15958\n",
    "e+(2+3im)"
   ]
  },
  {
   "cell_type": "code",
   "execution_count": 5,
   "id": "7a051e70-22e2-49c6-b144-e9910e607e75",
   "metadata": {},
   "outputs": [
    {
     "data": {
      "text/plain": [
       "0.0 + 1.2246467991473532e-16im"
      ]
     },
     "execution_count": 5,
     "metadata": {},
     "output_type": "execute_result"
    }
   ],
   "source": [
    "e^(pi*1im)+1 #Euler's formula .. close enough to zero?"
   ]
  },
  {
   "cell_type": "code",
   "execution_count": 6,
   "id": "0a0218a6-b399-47e5-bfdb-0308e48a31d9",
   "metadata": {},
   "outputs": [
    {
     "data": {
      "text/plain": [
       "\"juliabookbookbookjulia\""
      ]
     },
     "execution_count": 6,
     "metadata": {},
     "output_type": "execute_result"
    }
   ],
   "source": [
    "str1 = \"julia\"\n",
    "str2 = \"book\"\n",
    "str1*str2^3*str1\n",
    "# very handy!"
   ]
  },
  {
   "cell_type": "code",
   "execution_count": 7,
   "id": "aa42fe98-ecc9-45d4-a1d9-38d6bd989957",
   "metadata": {},
   "outputs": [
    {
     "data": {
      "text/plain": [
       "125287.0"
      ]
     },
     "execution_count": 7,
     "metadata": {},
     "output_type": "execute_result"
    }
   ],
   "source": [
    "parse(Float64,string(\"125\")*\"287\")\n",
    "# see also trunc"
   ]
  },
  {
   "cell_type": "code",
   "execution_count": 8,
   "id": "fc967a20-c6ed-4dd0-bc0e-54baa7d622be",
   "metadata": {},
   "outputs": [
    {
     "data": {
      "text/plain": [
       "1.0"
      ]
     },
     "execution_count": 8,
     "metadata": {},
     "output_type": "execute_result"
    }
   ],
   "source": [
    "deg=90\n",
    "rad=deg/180*pi\n",
    "sin(rad)"
   ]
  },
  {
   "cell_type": "code",
   "execution_count": 9,
   "id": "cbf801b2-d90b-40ed-b827-68049682d7bd",
   "metadata": {},
   "outputs": [
    {
     "name": "stdout",
     "output_type": "stream",
     "text": [
      "Worldometer Worldometer 3.141592653589793\n",
      "Worldometer Worldometer 3.141592653589793\n",
      "Worldometer Worldometer 3.141592653589793\n",
      "Worldometer Worldometer 3.141592653589793\n",
      "Worldometer Worldometer 3.141592653589793\n",
      "\n"
     ]
    }
   ],
   "source": [
    "function print5times(x)\n",
    "    println((x*\"\\n\") ^ 5)\n",
    "end\n",
    "\n",
    "# print a word twice followed by pi .. repeat for 5 times\n",
    "print5times(\"Worldometer \"^2 * string(Float64(pi)))"
   ]
  },
  {
   "cell_type": "code",
   "execution_count": 10,
   "id": "0e2bf8e0-16bf-44db-96e2-bdb413810827",
   "metadata": {},
   "outputs": [
    {
     "name": "stdout",
     "output_type": "stream",
     "text": [
      "hello! \n",
      "hello! \n"
     ]
    }
   ],
   "source": [
    "# now let's get functional...\n",
    "function repeattwice(f, arg)\n",
    "    f(arg)\n",
    "    f(arg)\n",
    "end\n",
    "repeattwice(println,\"hello! \")"
   ]
  },
  {
   "cell_type": "code",
   "execution_count": 11,
   "id": "d2d3bc8d-2eae-4817-ba3f-a13177f1b41d",
   "metadata": {},
   "outputs": [
    {
     "data": {
      "text/plain": [
       "2"
      ]
     },
     "execution_count": 11,
     "metadata": {},
     "output_type": "execute_result"
    }
   ],
   "source": [
    "17 ÷ 8\n",
    "# WTF... https://docs.julialang.org/en/v1/manual/mathematical-operations/"
   ]
  },
  {
   "cell_type": "code",
   "execution_count": 12,
   "id": "d2d44972-0e3c-4e8b-b1a3-0647e8dae3c6",
   "metadata": {},
   "outputs": [
    {
     "data": {
      "text/plain": [
       "false"
      ]
     },
     "execution_count": 12,
     "metadata": {},
     "output_type": "execute_result"
    }
   ],
   "source": [
    "13/2 > 19 || 12/2 < 8 && false\n",
    "# note the operator associativity "
   ]
  },
  {
   "cell_type": "code",
   "execution_count": 13,
   "id": "c906cf5a-9def-4b2e-880f-d1a5fdfb8d90",
   "metadata": {},
   "outputs": [
    {
     "name": "stdout",
     "output_type": "stream",
     "text": [
      "This will execute\n",
      "This will also execute\n"
     ]
    }
   ],
   "source": [
    "if true\n",
    "    println(\"This will execute\")\n",
    "    if true\n",
    "        println(\"This will also execute\")\n",
    "    elseif true\n",
    "        println(\"However, this will not\")\n",
    "    elseif true\n",
    "        println(\"... you get the point\")\n",
    "    end\n",
    "else\n",
    "    println(\"This will not\")\n",
    "end"
   ]
  },
  {
   "cell_type": "code",
   "execution_count": 14,
   "id": "11b5b3ed-ab47-4a6b-adfe-3b9676d85323",
   "metadata": {},
   "outputs": [
    {
     "data": {
      "text/plain": [
       "fibonacci (generic function with 1 method)"
      ]
     },
     "execution_count": 14,
     "metadata": {},
     "output_type": "execute_result"
    }
   ],
   "source": [
    "function sumof1ton(n)\n",
    "    if n==1\n",
    "        return 1\n",
    "    else\n",
    "        return n+sumof1ton(n-1)\n",
    "    end\n",
    "end\n",
    "\n",
    "function fibonacci(n)\n",
    "    if n==1\n",
    "        return 0\n",
    "    elseif n==2\n",
    "        return 1\n",
    "    else\n",
    "        return fibonacci(n-1) + fibonacci(n-2)\n",
    "    end\n",
    "end\n",
    "\n"
   ]
  },
  {
   "cell_type": "code",
   "execution_count": 15,
   "id": "0ce9fdbe-9928-4297-9986-1701ad37b0bf",
   "metadata": {},
   "outputs": [
    {
     "name": "stdout",
     "output_type": "stream",
     "text": [
      "Sum of 1 to 1 = 1\n",
      "Sum of 1 to 2 = 3\n",
      "Sum of 1 to 3 = 6\n",
      "Sum of 1 to 4 = 10\n",
      "Sum of 1 to 5 = 15\n",
      "Sum of 1 to 6 = 21\n",
      "1-th Fibonacci number is 0\n",
      "2-th Fibonacci number is 1\n",
      "3-th Fibonacci number is 1\n",
      "4-th Fibonacci number is 2\n",
      "5-th Fibonacci number is 3\n",
      "6-th Fibonacci number is 5\n",
      "7-th Fibonacci number is 8\n",
      "8-th Fibonacci number is 13\n",
      "9-th Fibonacci number is 21\n",
      "10-th Fibonacci number is 34\n"
     ]
    }
   ],
   "source": [
    "for i = 1 : 6\n",
    "    println(\"Sum of 1 to \"*string(i)*\" = \"*string(sumof1ton(i)))\n",
    "end\n",
    "\n",
    "\n",
    "for i = 1:10\n",
    "    println(string(i) * \"-th Fibonacci number is \" * string(fibonacci(i)))\n",
    "end"
   ]
  },
  {
   "cell_type": "code",
   "execution_count": 16,
   "id": "5fd33eee-78cd-4bfe-b711-a750c2f777c2",
   "metadata": {},
   "outputs": [
    {
     "name": "stdout",
     "output_type": "stream",
     "text": [
      "65533\n"
     ]
    }
   ],
   "source": [
    "# https://en.wikipedia.org/wiki/Ackermann_function\n",
    "# Its value grows rapidly, even for small inputs. \n",
    "# For example, A(4, 2) is an integer of 19,729 decimal digits (equivalent to 2^65536 - 3)\n",
    "\n",
    "function Ackermann(m,n)\n",
    "    #println(\"Called Ackermann with m=\"*string(m)*\",n=\"*string(n))\n",
    "   if m==0\n",
    "        return n+1\n",
    "    elseif m>0 && n==0\n",
    "        return Ackermann(m-1,1)\n",
    "    else\n",
    "        return Ackermann(m-1,Ackermann(m,n-1))\n",
    "    end\n",
    "end\n",
    "\n",
    "println(Ackermann(4,1))"
   ]
  },
  {
   "cell_type": "code",
   "execution_count": 17,
   "id": "2af07eee-00f4-4986-9c4b-34ac65fff498",
   "metadata": {},
   "outputs": [
    {
     "name": "stdout",
     "output_type": "stream",
     "text": [
      "r\n",
      "e\n",
      "t\n",
      "y\n",
      "p\n",
      "u\n",
      "j\n"
     ]
    }
   ],
   "source": [
    "s1 = \"jupyter\"\n",
    "# decrementing for loop: https://stackoverflow.com/a/62444832\n",
    "for i = length(s1):-1:1\n",
    "    println(s1[i])\n",
    "end"
   ]
  },
  {
   "cell_type": "code",
   "execution_count": 18,
   "id": "df734a7a-230d-494d-bf8e-037fc289d62c",
   "metadata": {},
   "outputs": [
    {
     "name": "stdout",
     "output_type": "stream",
     "text": [
      "\"sees\" is a palindrome : true\n",
      "\"seek\" is a palindrome : false\n",
      "\"never\" is a palindrome : false\n",
      "\"neven\" is a palindrome : true\n",
      "\"able was i ere i saw elba\" is a palindrome : true\n"
     ]
    }
   ],
   "source": [
    "function ispalindrome(s)\n",
    "    s_len = length(s)\n",
    "    \n",
    "    # a string of size zero or one is by definition always palindrome\n",
    "    # base case\n",
    "    if s_len<=1\n",
    "        return true\n",
    "    else\n",
    "        # middle will become empty for inputs with even length, and a single character for odd length\n",
    "        middle = s[2:s_len-1] \n",
    "        first = s[1]\n",
    "        last = s[s_len]\n",
    "        return (first==last) && ispalindrome(middle)\n",
    "    end\n",
    "end\n",
    "\n",
    "\n",
    "# test cases should cover: 1. odd and even lengths 2. palindromes and non-palindromes\n",
    "ss = [\"sees\", \"seek\", \"never\", \"neven\", \"able was i ere i saw elba\"]\n",
    "for i = 1:length(ss)\n",
    "    println(\"\\\"\" * ss[i] * \"\\\" is a palindrome : \" * string(ispalindrome(ss[i])))\n",
    "end"
   ]
  },
  {
   "cell_type": "code",
   "execution_count": 29,
   "id": "49f826bd-6536-437d-855c-660e9262f135",
   "metadata": {},
   "outputs": [
    {
     "name": "stdout",
     "output_type": "stream",
     "text": [
      "Sqrt(10,1) : converged to 3.162277660168379 after 7 iterations, true value is 3.1622776601683795\n",
      "Sqrt(11,1) : converged to 3.3166247903554 after 7 iterations, true value is 3.3166247903554\n",
      "Sqrt(12,1) : converged to 3.4641016151377544 after 7 iterations, true value is 3.4641016151377544\n",
      "Sqrt(13,1) : converged to 3.6055512754639896 after 7 iterations, true value is 3.605551275463989\n",
      "Sqrt(14,1) : converged to 3.7416573867739413 after 7 iterations, true value is 3.7416573867739413\n",
      "Sqrt(15,1) : converged to 3.872983346207417 after 7 iterations, true value is 3.872983346207417\n",
      "Sqrt(16,1) : converged to 4.0 after 7 iterations, true value is 4.0\n",
      "Sqrt(17,1) : converged to 4.123105625617661 after 7 iterations, true value is 4.123105625617661\n",
      "Sqrt(18,1) : converged to 4.242640687119286 after 7 iterations, true value is 4.242640687119285\n",
      "Sqrt(19,1) : converged to 4.358898943540673 after 7 iterations, true value is 4.358898943540674\n",
      "Sqrt(20,1) : converged to 4.47213595499958 after 8 iterations, true value is 4.47213595499958\n",
      "Sqrt(21,1) : converged to 4.58257569495584 after 8 iterations, true value is 4.58257569495584\n",
      "Sqrt(22,1) : converged to 4.69041575982343 after 8 iterations, true value is 4.69041575982343\n",
      "Sqrt(23,1) : converged to 4.795831523312719 after 8 iterations, true value is 4.795831523312719\n",
      "Sqrt(24,1) : converged to 4.898979485566356 after 8 iterations, true value is 4.898979485566356\n",
      "Sqrt(25,1) : converged to 5.0 after 8 iterations, true value is 5.0\n",
      "Sqrt(26,1) : converged to 5.0990195135927845 after 8 iterations, true value is 5.0990195135927845\n",
      "Sqrt(27,1) : converged to 5.196152422706632 after 8 iterations, true value is 5.196152422706632\n",
      "Sqrt(28,1) : converged to 5.291502622129181 after 8 iterations, true value is 5.291502622129181\n",
      "Sqrt(29,1) : converged to 5.385164807134505 after 8 iterations, true value is 5.385164807134504\n",
      "Sqrt(30,1) : converged to 5.477225575051661 after 8 iterations, true value is 5.477225575051661\n",
      "Sqrt(31,1) : converged to 5.567764362830022 after 8 iterations, true value is 5.5677643628300215\n",
      "Sqrt(32,1) : converged to 5.65685424949238 after 8 iterations, true value is 5.656854249492381\n",
      "Sqrt(33,1) : converged to 5.744562646538029 after 8 iterations, true value is 5.744562646538029\n",
      "Sqrt(34,1) : converged to 5.830951894845301 after 8 iterations, true value is 5.830951894845301\n",
      "Sqrt(35,1) : converged to 5.916079783099616 after 8 iterations, true value is 5.916079783099616\n",
      "Sqrt(36,1) : converged to 6.0 after 8 iterations, true value is 6.0\n",
      "Sqrt(37,1) : converged to 6.08276253029822 after 8 iterations, true value is 6.082762530298219\n",
      "Sqrt(38,1) : converged to 6.164414002968977 after 8 iterations, true value is 6.164414002968976\n",
      "Sqrt(39,1) : converged to 6.244997998398398 after 8 iterations, true value is 6.244997998398398\n",
      "Sqrt(40,1) : converged to 6.324555320336758 after 8 iterations, true value is 6.324555320336759\n",
      "Sqrt(41,1) : converged to 6.4031242374328485 after 8 iterations, true value is 6.4031242374328485\n",
      "Sqrt(42,1) : converged to 6.48074069840786 after 8 iterations, true value is 6.48074069840786\n",
      "Sqrt(43,1) : converged to 6.557438524302 after 8 iterations, true value is 6.557438524302\n",
      "Sqrt(44,1) : converged to 6.6332495807108 after 8 iterations, true value is 6.6332495807108\n",
      "Sqrt(45,1) : converged to 6.708203932499369 after 8 iterations, true value is 6.708203932499369\n",
      "Sqrt(46,1) : converged to 6.782329983125268 after 8 iterations, true value is 6.782329983125268\n",
      "Sqrt(47,1) : converged to 6.855654600401044 after 8 iterations, true value is 6.855654600401044\n",
      "Sqrt(48,1) : converged to 6.928203230275509 after 8 iterations, true value is 6.928203230275509\n",
      "Sqrt(49,1) : converged to 7.0 after 8 iterations, true value is 7.0\n",
      "Sqrt(50,1) : converged to 7.0710678118654755 after 8 iterations, true value is 7.0710678118654755\n",
      "Sqrt(51,1) : converged to 7.14142842854285 after 8 iterations, true value is 7.14142842854285\n",
      "Sqrt(52,1) : converged to 7.211102550927979 after 8 iterations, true value is 7.211102550927978\n",
      "Sqrt(53,1) : converged to 7.280109889280518 after 8 iterations, true value is 7.280109889280518\n",
      "Sqrt(54,1) : converged to 7.3484692283495345 after 8 iterations, true value is 7.3484692283495345\n",
      "Sqrt(55,1) : converged to 7.416198487095663 after 8 iterations, true value is 7.416198487095663\n",
      "Sqrt(56,1) : converged to 7.483314773547883 after 8 iterations, true value is 7.483314773547883\n",
      "Sqrt(57,1) : converged to 7.54983443527075 after 8 iterations, true value is 7.54983443527075\n",
      "Sqrt(58,1) : converged to 7.615773105863909 after 8 iterations, true value is 7.615773105863909\n",
      "Sqrt(59,1) : converged to 7.681145747868609 after 8 iterations, true value is 7.681145747868608\n",
      "Sqrt(60,1) : converged to 7.745966692414834 after 8 iterations, true value is 7.745966692414834\n",
      "Sqrt(61,1) : converged to 7.810249675906654 after 8 iterations, true value is 7.810249675906654\n",
      "Sqrt(62,1) : converged to 7.874007874011811 after 8 iterations, true value is 7.874007874011811\n",
      "Sqrt(63,1) : converged to 7.937253933193771 after 8 iterations, true value is 7.937253933193772\n",
      "Sqrt(64,1) : converged to 8.0 after 8 iterations, true value is 8.0\n",
      "Sqrt(65,1) : converged to 8.06225774829855 after 8 iterations, true value is 8.06225774829855\n",
      "Sqrt(66,1) : converged to 8.12403840463596 after 8 iterations, true value is 8.12403840463596\n",
      "Sqrt(67,1) : converged to 8.18535277187245 after 8 iterations, true value is 8.18535277187245\n",
      "Sqrt(68,1) : converged to 8.246211251235321 after 8 iterations, true value is 8.246211251235321\n",
      "Sqrt(69,1) : converged to 8.306623862918075 after 8 iterations, true value is 8.306623862918075\n",
      "Sqrt(70,1) : converged to 8.366600265340756 after 8 iterations, true value is 8.366600265340756\n",
      "Sqrt(71,1) : converged to 8.426149773176359 after 8 iterations, true value is 8.426149773176359\n",
      "Sqrt(72,1) : converged to 8.485281374238571 after 9 iterations, true value is 8.48528137423857\n",
      "Sqrt(73,1) : converged to 8.544003745317532 after 9 iterations, true value is 8.54400374531753\n",
      "Sqrt(74,1) : converged to 8.602325267042627 after 9 iterations, true value is 8.602325267042627\n",
      "Sqrt(75,1) : converged to 8.660254037844386 after 9 iterations, true value is 8.660254037844387\n",
      "Sqrt(76,1) : converged to 8.717797887081346 after 9 iterations, true value is 8.717797887081348\n",
      "Sqrt(77,1) : converged to 8.77496438739212 after 9 iterations, true value is 8.774964387392123\n",
      "Sqrt(78,1) : converged to 8.831760866327848 after 9 iterations, true value is 8.831760866327848\n",
      "Sqrt(79,1) : converged to 8.888194417315589 after 9 iterations, true value is 8.888194417315589\n",
      "Sqrt(80,1) : converged to 8.94427190999916 after 9 iterations, true value is 8.94427190999916\n",
      "Sqrt(81,1) : converged to 9.0 after 9 iterations, true value is 9.0\n",
      "Sqrt(82,1) : converged to 9.055385138137417 after 9 iterations, true value is 9.055385138137417\n",
      "Sqrt(83,1) : converged to 9.1104335791443 after 9 iterations, true value is 9.1104335791443\n",
      "Sqrt(84,1) : converged to 9.16515138991168 after 9 iterations, true value is 9.16515138991168\n",
      "Sqrt(85,1) : converged to 9.219544457292887 after 9 iterations, true value is 9.219544457292887\n",
      "Sqrt(86,1) : converged to 9.273618495495704 after 9 iterations, true value is 9.273618495495704\n",
      "Sqrt(87,1) : converged to 9.327379053088816 after 9 iterations, true value is 9.327379053088816\n",
      "Sqrt(88,1) : converged to 9.38083151964686 after 9 iterations, true value is 9.38083151964686\n",
      "Sqrt(89,1) : converged to 9.433981132056605 after 9 iterations, true value is 9.433981132056603\n",
      "Sqrt(90,1) : converged to 9.486832980505138 after 9 iterations, true value is 9.486832980505138\n",
      "Sqrt(91,1) : converged to 9.539392014169456 after 9 iterations, true value is 9.539392014169456\n",
      "Sqrt(92,1) : converged to 9.591663046625438 after 9 iterations, true value is 9.591663046625438\n",
      "Sqrt(93,1) : converged to 9.643650760992955 after 9 iterations, true value is 9.643650760992955\n",
      "Sqrt(94,1) : converged to 9.695359714832659 after 9 iterations, true value is 9.695359714832659\n",
      "Sqrt(95,1) : converged to 9.746794344808965 after 9 iterations, true value is 9.746794344808963\n",
      "Sqrt(96,1) : converged to 9.797958971132712 after 9 iterations, true value is 9.797958971132712\n",
      "Sqrt(97,1) : converged to 9.848857801796104 after 9 iterations, true value is 9.848857801796104\n",
      "Sqrt(98,1) : converged to 9.899494936611665 after 9 iterations, true value is 9.899494936611665\n",
      "Sqrt(99,1) : converged to 9.9498743710662 after 9 iterations, true value is 9.9498743710662\n",
      "Sqrt(100,1) : converged to 10.0 after 9 iterations, true value is 10.0\n"
     ]
    }
   ],
   "source": [
    "# https://stackoverflow.com/questions/65629829/if-the-f-string-like-string-formatting-available-in-julia\n",
    "\n",
    "# Newton method for finding square root\n",
    "function newton_sqrt(n, est)\n",
    "    roots = Vector{Float64}()\n",
    "    est1 = est\n",
    "    i = 1\n",
    "    while true\n",
    "        #println(\"Iteration $i, estimate of sqrt($n) = $est1\")\n",
    "        est1 = (1/2) * (est1 + n/est1)\n",
    "        append!(roots, est1)\n",
    "        if i>3\n",
    "            delta = abs(roots[length(roots)] - roots[length(roots)-1])\n",
    "            if delta<1e-12\n",
    "                break\n",
    "            end\n",
    "        end\n",
    "        i = i+1\n",
    "    end\n",
    "    truesqrt = sqrt(n)\n",
    "    println(\"Sqrt($n,$est) : converged to $est1 after $i iterations, true value is $truesqrt\")\n",
    "    return est1\n",
    "end\n",
    "\n",
    "for i = 10:100\n",
    "    newton_sqrt(i,1)\n",
    "end"
   ]
  },
  {
   "cell_type": "code",
   "execution_count": null,
   "id": "db88a3e4-becc-4a5b-8f68-2cd891daa0f3",
   "metadata": {},
   "outputs": [],
   "source": []
  }
 ],
 "metadata": {
  "kernelspec": {
   "display_name": "Julia 1.6.1",
   "language": "julia",
   "name": "julia-1.6"
  },
  "language_info": {
   "file_extension": ".jl",
   "mimetype": "application/julia",
   "name": "julia",
   "version": "1.6.1"
  }
 },
 "nbformat": 4,
 "nbformat_minor": 5
}
